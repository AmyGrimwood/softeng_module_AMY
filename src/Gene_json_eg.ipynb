{
 "cells": [
  {
   "cell_type": "code",
   "execution_count": 7,
   "metadata": {},
   "outputs": [],
   "source": [
    "#Import required modules\n",
    "import json\n",
    "import pandas as pd\n",
    "import numpy as np"
   ]
  },
  {
   "cell_type": "code",
   "execution_count": 9,
   "metadata": {},
   "outputs": [],
   "source": [
    "#Read json file\n",
    "f = open('./JSON_eg.json')\n",
    "\n",
    "\n",
    "#Convert json file to dict\n",
    "data = json.load(f)"
   ]
  },
  {
   "cell_type": "code",
   "execution_count": 10,
   "metadata": {},
   "outputs": [
    {
     "name": "stdout",
     "output_type": "stream",
     "text": [
      "[{'HGNC Symbol': 'APC', 'HGNC ID': 'HGNC:583', 'GRch38 location': '5:112707498-112846239'}, {'HGNC Symbol': 'BMPR1A', 'HGNC ID': 'HGNC:1076', 'GRch38 location': '10:86756601-86932838'}, {'HGNC Symbol': 'EPCAM', 'HGNC ID': 'HGNC:11529', 'GRch38 location': '2:47345158-47387601'}, {'HGNC Symbol': 'MLH1', 'HGNC ID': 'HGNC:7127', 'GRch38 location': '3:36993332-37050918'}, {'HGNC Symbol': 'MSH2', 'HGNC ID': 'HGNC:7325', 'GRch38 location': '2:47402969-47562311'}, {'HGNC Symbol': 'MSH6', 'HGNC ID': 'HGNC:7329', 'GRch38 location': '2:47695530-47810101'}, {'HGNC Symbol': 'MUTYH', 'HGNC ID': 'HGNC:7527', 'GRch38 location': '1:45329163-45340470'}, {'HGNC Symbol': 'NTHL1', 'HGNC ID': 'HGNC:8028', 'GRch38 location': '16:2039815-2047866'}, {'HGNC Symbol': 'PMS2', 'HGNC ID': 'HGNC:9122', 'GRch38 location': '7:5973239-6009125'}, {'HGNC Symbol': 'POLD1', 'HGNC ID': 'HGNC:9175', 'GRch38 location': '19:50384204-50418018'}, {'HGNC Symbol': 'POLE', 'HGNC ID': 'HGNC:9177', 'GRch38 location': '12:132623753-132687365'}, {'HGNC Symbol': 'PTEN', 'HGNC ID': 'HGNC:9588', 'GRch38 location': '10:87863113-87971930'}, {'HGNC Symbol': 'RNF43', 'HGNC ID': 'HGNC:18505', 'GRch38 location': '17:58352500-58417595'}, {'HGNC Symbol': 'SMAD4', 'HGNC ID': 'HGNC:6770', 'GRch38 location': '18:51028394-51085045'}, {'HGNC Symbol': 'STK11', 'HGNC ID': 'HGNC:11389', 'GRch38 location': '19:1177558-1228435'}, {'HGNC Symbol': 'AXIN2', 'HGNC ID': 'HGNC:904', 'GRch38 location': '17:65528563-65561647'}, {'HGNC Symbol': 'GREM1', 'HGNC ID': 'HGNC:2001', 'GRch38 location': '15:32717974-32745107'}, {'HGNC Symbol': 'MBD4', 'HGNC ID': 'HGNC:6919', 'GRch38 location': '3:129430944-129440179'}, {'HGNC Symbol': 'MSH3', 'HGNC ID': 'HGNC:7326', 'GRch38 location': '5:80654648-80876460'}]\n"
     ]
    }
   ],
   "source": [
    "#Extract genes on panel from json, including error handelling for jsons mimissing the 'genes', 'gene_data' or 'hgnc_symbol' key>\n",
    "\n",
    "    \n",
    "gene_info = data['genes']\n",
    "gene_list = []\n",
    "for x in gene_info:\n",
    "    #Given a key, the get() method returns paired value from dict (documentation found at https://docs.python.org/2/library/stdtypes.html in section 5.8)\n",
    "    hgnc_symbol = x.get('gene_data',{}).get('hgnc_symbol')\n",
    "    hgnc_id = x.get('gene_data',{}).get('hgnc_id')\n",
    "    GRch38_coord = x.get('gene_data',{}).get('ensembl_genes',{}).get('GRch38',{}).get('90',{}).get('location',{})\n",
    "    gene_dict = {'HGNC Symbol':hgnc_symbol, 'HGNC ID':hgnc_id, 'GRch38 location':GRch38_coord}\n",
    "    gene_list.append(gene_dict)\n",
    "\n",
    "print(gene_list)"
   ]
  },
  {
   "cell_type": "code",
   "execution_count": 12,
   "metadata": {},
   "outputs": [],
   "source": [
    "location_list = []\n",
    "for x in gene_list:\n",
    "    location = x.get('GRch38 location')\n",
    "    location_list.append(location)"
   ]
  },
  {
   "cell_type": "code",
   "execution_count": 13,
   "metadata": {},
   "outputs": [
    {
     "data": {
      "text/plain": [
       "['5:112707498-112846239',\n",
       " '10:86756601-86932838',\n",
       " '2:47345158-47387601',\n",
       " '3:36993332-37050918',\n",
       " '2:47402969-47562311',\n",
       " '2:47695530-47810101',\n",
       " '1:45329163-45340470',\n",
       " '16:2039815-2047866',\n",
       " '7:5973239-6009125',\n",
       " '19:50384204-50418018',\n",
       " '12:132623753-132687365',\n",
       " '10:87863113-87971930',\n",
       " '17:58352500-58417595',\n",
       " '18:51028394-51085045',\n",
       " '19:1177558-1228435',\n",
       " '17:65528563-65561647',\n",
       " '15:32717974-32745107',\n",
       " '3:129430944-129440179',\n",
       " '5:80654648-80876460']"
      ]
     },
     "execution_count": 13,
     "metadata": {},
     "output_type": "execute_result"
    }
   ],
   "source": [
    "location_list"
   ]
  },
  {
   "cell_type": "code",
   "execution_count": 14,
   "metadata": {},
   "outputs": [],
   "source": [
    "location_str = \"\\n\".join(location_list)"
   ]
  },
  {
   "cell_type": "code",
   "execution_count": 16,
   "metadata": {},
   "outputs": [
    {
     "name": "stdout",
     "output_type": "stream",
     "text": [
      "5:112707498-112846239\n",
      "10:86756601-86932838\n",
      "2:47345158-47387601\n",
      "3:36993332-37050918\n",
      "2:47402969-47562311\n",
      "2:47695530-47810101\n",
      "1:45329163-45340470\n",
      "16:2039815-2047866\n",
      "7:5973239-6009125\n",
      "19:50384204-50418018\n",
      "12:132623753-132687365\n",
      "10:87863113-87971930\n",
      "17:58352500-58417595\n",
      "18:51028394-51085045\n",
      "19:1177558-1228435\n",
      "17:65528563-65561647\n",
      "15:32717974-32745107\n",
      "3:129430944-129440179\n",
      "5:80654648-80876460\n"
     ]
    }
   ],
   "source": [
    "print(location_str)"
   ]
  },
  {
   "cell_type": "code",
   "execution_count": null,
   "metadata": {},
   "outputs": [],
   "source": []
  }
 ],
 "metadata": {
  "kernelspec": {
   "display_name": "Python 3",
   "language": "python",
   "name": "python3"
  },
  "language_info": {
   "codemirror_mode": {
    "name": "ipython",
    "version": 3
   },
   "file_extension": ".py",
   "mimetype": "text/x-python",
   "name": "python",
   "nbconvert_exporter": "python",
   "pygments_lexer": "ipython3",
   "version": "3.10.12"
  }
 },
 "nbformat": 4,
 "nbformat_minor": 2
}
